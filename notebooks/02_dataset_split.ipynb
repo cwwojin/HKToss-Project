{
 "cells": [
  {
   "cell_type": "code",
   "execution_count": null,
   "metadata": {},
   "outputs": [],
   "source": [
    "import pandas as pd\n",
    "import os\n",
    "import os.path as path\n",
    "\n",
    "# # 최대 행 수를 None으로 설정하여 모든 행이 출력되도록 함\n",
    "# pd.set_option('display.max_rows', None)\n",
    "\n",
    "# # 최대 열 수를 None으로 설정하여 모든 열이 출력되도록 함\n",
    "# pd.set_option('display.max_columns', None)\n",
    "\n",
    "# # 행과 열의 출력 옵션을 원래 상태로 되돌림\n",
    "# pd.reset_option('display.max_rows')\n",
    "# pd.reset_option('display.max_columns')\n",
    "\n",
    "DATA_PATH = \".tmp/dataset\""
   ]
  },
  {
   "cell_type": "code",
   "execution_count": null,
   "metadata": {},
   "outputs": [],
   "source": [
    "# CSV 파일 불러오기\n",
    "df = pd.read_csv(path.join(DATA_PATH, \"dataset_total.csv\"), low_memory=False)\n",
    "\n",
    "# 데이터프레임 확인\n",
    "df.head()  # 상위 5개 행 출력"
   ]
  },
  {
   "cell_type": "code",
   "execution_count": null,
   "metadata": {},
   "outputs": [],
   "source": [
    "df.shape"
   ]
  },
  {
   "cell_type": "code",
   "execution_count": null,
   "metadata": {},
   "outputs": [],
   "source": [
    "# 데이터셋의 기본 정보 확인\n",
    "df.info()"
   ]
  },
  {
   "cell_type": "code",
   "execution_count": null,
   "metadata": {},
   "outputs": [],
   "source": [
    "# 각 열의 결측치 수 확인\n",
    "missing_values = df.isnull().sum()\n",
    "missing_values[missing_values > 0]"
   ]
  },
  {
   "cell_type": "code",
   "execution_count": null,
   "metadata": {},
   "outputs": [],
   "source": [
    "# 데이터 타입 확인\n",
    "df.dtypes"
   ]
  },
  {
   "cell_type": "code",
   "execution_count": null,
   "metadata": {},
   "outputs": [],
   "source": [
    "# 타겟 변수의 분포 확인\n",
    "target_counts = df[\"TARGET\"].value_counts()\n",
    "print(target_counts)"
   ]
  },
  {
   "cell_type": "markdown",
   "metadata": {},
   "source": [
    "## Create Demo Dataset\n"
   ]
  },
  {
   "cell_type": "code",
   "execution_count": null,
   "metadata": {},
   "outputs": [],
   "source": [
    "names = [\n",
    "    \"강민호\",\n",
    "    \"김현빈\",\n",
    "    \"김희교\",\n",
    "    \"박동현\",\n",
    "    \"박선애\",\n",
    "    \"성원석\",\n",
    "    \"신동훈\",\n",
    "    \"신지민\",\n",
    "    \"오손빈\",\n",
    "    \"위혜인\",\n",
    "    \"이나은\",\n",
    "    \"이동현\",\n",
    "    \"이승준\",\n",
    "    \"이승훈\",\n",
    "    \"이유리\",\n",
    "    \"이주영\",\n",
    "    \"이현상\",\n",
    "    \"장성민\",\n",
    "    \"전영욱\",\n",
    "    \"정명훈\",\n",
    "    \"정지영\",\n",
    "    \"정혜란\",\n",
    "    \"최우진\",\n",
    "    \"최호윤\",\n",
    "    \"피상민\",\n",
    "]"
   ]
  },
  {
   "cell_type": "code",
   "execution_count": null,
   "metadata": {},
   "outputs": [],
   "source": [
    "# LOAN_COUNT가 0 이상인 데이터와 0인 데이터를 각각 필터링\n",
    "loan_count_positive = df[df[\"LOAN_COUNT\"] > 0]\n",
    "loan_count_zero = df[df[\"LOAN_COUNT\"] == 0]"
   ]
  },
  {
   "cell_type": "code",
   "execution_count": null,
   "metadata": {},
   "outputs": [],
   "source": [
    "# TARGET의 비율에 맞춰 LOAN_COUNT가 0 이상인 데이터와 0인 데이터에서 각각 샘플링\n",
    "\n",
    "# TARGET이 0인 경우 12개, 1인 경우 13개를 각각 샘플링 (1:1 비율로 나누어지도록)\n",
    "\n",
    "sample_positive_0 = loan_count_positive[loan_count_positive[\"TARGET\"] == 0].sample(\n",
    "    n=12, random_state=42\n",
    ")\n",
    "sample_positive_1 = loan_count_positive[loan_count_positive[\"TARGET\"] == 1].sample(\n",
    "    n=13, random_state=42\n",
    ")\n",
    "\n",
    "sample_zero_0 = loan_count_zero[loan_count_zero[\"TARGET\"] == 0].sample(\n",
    "    n=12, random_state=42\n",
    ")\n",
    "sample_zero_1 = loan_count_zero[loan_count_zero[\"TARGET\"] == 1].sample(\n",
    "    n=13, random_state=42\n",
    ")"
   ]
  },
  {
   "cell_type": "code",
   "execution_count": null,
   "metadata": {},
   "outputs": [],
   "source": [
    "# 1:1 비율로 데이터 결합 (12개씩 0과 1에 대해서 합침)\n",
    "sampled_data_positive = pd.concat([sample_positive_0, sample_positive_1]).reset_index(\n",
    "    drop=True\n",
    ")\n",
    "sampled_data_zero = pd.concat([sample_zero_0, sample_zero_1]).reset_index(drop=True)"
   ]
  },
  {
   "cell_type": "code",
   "execution_count": null,
   "metadata": {},
   "outputs": [],
   "source": [
    "# 각각에서 12개씩을 결합하여 총 24개의 데이터를 만들고 남은 1개는 TARGET의 0과 1 비율에 맞게 선택\n",
    "sampled_data = pd.concat(\n",
    "    [\n",
    "        sampled_data_positive.sample(n=12, random_state=42),\n",
    "        sampled_data_zero.sample(n=12, random_state=42),\n",
    "    ]\n",
    ").reset_index(drop=True)\n",
    "\n",
    "# 이미 사용된 SK_ID_CURR를 제외한 남은 샘플을 선택하기 위해 필터링\n",
    "used_sk_ids = sampled_data[\"SK_ID_CURR\"].tolist()\n",
    "remaining_samples = pd.concat(\n",
    "    [sample_positive_0, sample_positive_1, sample_zero_0, sample_zero_1]\n",
    ")\n",
    "remaining_samples = remaining_samples[\n",
    "    ~remaining_samples[\"SK_ID_CURR\"].isin(used_sk_ids)\n",
    "]\n",
    "\n",
    "# 남은 1개의 샘플을 TARGET 비율에 맞게 선택 (분포에 맞추기 위해)\n",
    "target_ratio = 19032 / 244280\n",
    "\n",
    "if target_ratio > 0.5:\n",
    "    additional_sample = remaining_samples[remaining_samples[\"TARGET\"] == 1].sample(\n",
    "        n=1, random_state=42\n",
    "    )\n",
    "else:\n",
    "    additional_sample = remaining_samples[remaining_samples[\"TARGET\"] == 0].sample(\n",
    "        n=1, random_state=42\n",
    "    )"
   ]
  },
  {
   "cell_type": "code",
   "execution_count": null,
   "metadata": {},
   "outputs": [],
   "source": [
    "# 최종 샘플 데이터에 추가하여 25개로 만듦\n",
    "sampled_data = pd.concat([sampled_data, additional_sample]).reset_index(drop=True)"
   ]
  },
  {
   "cell_type": "code",
   "execution_count": null,
   "metadata": {},
   "outputs": [],
   "source": [
    "# 샘플링한 데이터의 name 컬럼의 값을 names 리스트의 이름으로 교체\n",
    "sampled_data[\"NAME\"] = names"
   ]
  },
  {
   "cell_type": "code",
   "execution_count": null,
   "metadata": {},
   "outputs": [],
   "source": [
    "sampled_data"
   ]
  },
  {
   "cell_type": "code",
   "execution_count": null,
   "metadata": {},
   "outputs": [],
   "source": [
    "# name 컬럼을 SK_ID_CURR 뒤로 이동\n",
    "columns = list(sampled_data.columns)\n",
    "# 현재 컬럼들 중 name을 제외한 컬럼들\n",
    "columns.remove(\"NAME\")\n",
    "# 새로운 컬럼 순서를 정의\n",
    "new_columns = columns[:1] + [\"NAME\"] + columns[1:]\n",
    "\n",
    "# 데이터프레임의 컬럼 순서를 변경\n",
    "sampled_data = sampled_data[new_columns]\n",
    "\n",
    "# 결과 확인\n",
    "sampled_data"
   ]
  },
  {
   "cell_type": "code",
   "execution_count": null,
   "metadata": {},
   "outputs": [],
   "source": [
    "# 데이터프레임을 CSV 파일로 저장\n",
    "sampled_data.to_csv(\n",
    "    path.join(DATA_PATH, \"dataset_demo.csv\"), index=False, encoding=\"utf-8-sig\"\n",
    ")"
   ]
  },
  {
   "cell_type": "markdown",
   "metadata": {},
   "source": [
    "# 칼럼별 고유값 추출 (원본)\n"
   ]
  },
  {
   "cell_type": "code",
   "execution_count": null,
   "metadata": {},
   "outputs": [],
   "source": [
    "# 범주형 (object) 및 boolean 컬럼만 선택\n",
    "categorical_columns = df.select_dtypes(include=[\"object\", \"bool\"]).columns\n",
    "\n",
    "# 각 범주형 컬럼의 고유값을 딕셔너리로 저장\n",
    "unique_values_dict = {col: df[col].unique().tolist() for col in categorical_columns}\n",
    "\n",
    "# 결과 출력\n",
    "unique_values_dict"
   ]
  },
  {
   "cell_type": "code",
   "execution_count": null,
   "metadata": {},
   "outputs": [],
   "source": [
    "# 가장 긴 리스트의 길이를 찾음\n",
    "max_length = max(len(values) for values in unique_values_dict.values())\n",
    "\n",
    "# 각 리스트를 max_length에 맞추어 패딩\n",
    "padded_dict = {\n",
    "    key: values + [values[-1]] * (max_length - len(values))\n",
    "    for key, values in unique_values_dict.items()\n",
    "}\n",
    "\n",
    "# 데이터프레임으로 변환\n",
    "df_padded = pd.DataFrame(padded_dict)\n",
    "\n",
    "# 결과 출력\n",
    "df_padded"
   ]
  },
  {
   "cell_type": "code",
   "execution_count": null,
   "metadata": {},
   "outputs": [],
   "source": [
    "len(unique_values_dict)"
   ]
  },
  {
   "cell_type": "code",
   "execution_count": null,
   "metadata": {},
   "outputs": [],
   "source": [
    "max_length"
   ]
  },
  {
   "cell_type": "code",
   "execution_count": null,
   "metadata": {},
   "outputs": [],
   "source": [
    "df_padded.shape"
   ]
  },
  {
   "cell_type": "code",
   "execution_count": null,
   "metadata": {},
   "outputs": [],
   "source": [
    "df_padded.to_csv(\n",
    "    path.join(DATA_PATH, \"input_example.csv\"), index=False, encoding=\"utf-8-sig\"\n",
    ")"
   ]
  },
  {
   "cell_type": "markdown",
   "metadata": {},
   "source": [
    "## Train Dataset\n",
    "\n",
    "-   Total 에서 Demo dataset 제외한 데이터셋 생성\n"
   ]
  },
  {
   "cell_type": "code",
   "execution_count": null,
   "metadata": {},
   "outputs": [],
   "source": [
    "import pandas as pd\n",
    "import os.path as path\n",
    "\n",
    "DATA_PATH = \".tmp/dataset\"\n",
    "\n",
    "total_df = pd.read_csv(path.join(DATA_PATH, \"dataset_total.csv\"), low_memory=False)\n",
    "demo_df = pd.read_csv(path.join(DATA_PATH, \"dataset_demo.csv\"), low_memory=False)\n",
    "\n",
    "# demo_df['SK_ID_CURR']와 같은 값을 가진 행들을 total_df에서 제외\n",
    "filtered_total_df = total_df[~total_df[\"SK_ID_CURR\"].isin(demo_df[\"SK_ID_CURR\"])]\n",
    "\n",
    "# 결과 확인\n",
    "print(len(total_df) - len(filtered_total_df))\n",
    "\n",
    "# 'object' 또는 'category' 타입\n",
    "category_columns = filtered_total_df.select_dtypes(\n",
    "    include=[\"object\", \"category\"]\n",
    ").columns.tolist()\n",
    "\n",
    "# 'int64' 또는 'float64' 타입\n",
    "numeric_columns = filtered_total_df.select_dtypes(include=[\"number\"]).columns.tolist()\n",
    "\n",
    "# 'bool' 타입\n",
    "boolean_columns = filtered_total_df.select_dtypes(include=[\"bool\"]).columns.tolist()\n",
    "\n",
    "\n",
    "print(\"Category Columns:\", category_columns)\n",
    "print(\"Numeric Columns:\", numeric_columns)\n",
    "print(\"Boolean Columns:\", boolean_columns)\n",
    "filtered_total_df.to_csv(path.join(DATA_PATH, \"dataset_train.csv\"), index=False)"
   ]
  }
 ],
 "metadata": {
  "kernelspec": {
   "display_name": "ml-env",
   "language": "python",
   "name": "python3"
  },
  "language_info": {
   "codemirror_mode": {
    "name": "ipython",
    "version": 3
   },
   "file_extension": ".py",
   "mimetype": "text/x-python",
   "name": "python",
   "nbconvert_exporter": "python",
   "pygments_lexer": "ipython3",
   "version": "3.10.14"
  }
 },
 "nbformat": 4,
 "nbformat_minor": 2
}
