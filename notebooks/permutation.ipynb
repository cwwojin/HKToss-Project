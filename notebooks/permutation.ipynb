{
 "cells": [
  {
   "cell_type": "code",
   "execution_count": null,
   "metadata": {},
   "outputs": [],
   "source": [
    "import pandas as pd\n",
    "from pandas import DataFrame\n",
    "import numpy as np\n",
    "from dotenv import load_dotenv\n",
    "\n",
    "load_dotenv(\"../.env\")\n",
    "\n",
    "# load demo & total set\n",
    "df_demo = pd.read_csv(\".tmp/dataset/dataset_demo.csv\", low_memory=False)\n",
    "df_total = pd.read_csv(\".tmp/dataset/dataset_total.csv\", low_memory=False)\n",
    "df_total[\"NAME\"] = \"\""
   ]
  },
  {
   "cell_type": "markdown",
   "metadata": {},
   "source": [
    "-   LOAN_COUNT (number)\n",
    "-   AMT_CREDIT_SUM_DEBT_SUM (number)\n",
    "-   AMT_INCOME_TOTAL (number)\n",
    "-   DAYS_EMPLOYED (number)\n"
   ]
  },
  {
   "cell_type": "code",
   "execution_count": null,
   "metadata": {},
   "outputs": [],
   "source": [
    "perm_cols = [\n",
    "    \"LOAN_COUNT\",\n",
    "    \"AMT_CREDIT_SUM_DEBT_SUM\",\n",
    "    \"AMT_INCOME_TOTAL\",\n",
    "    \"DAYS_EMPLOYED\",\n",
    "]\n",
    "quartiles = {\n",
    "    c: np.quantile(np.asarray(df_total[c]), [0, 0.25, 0.75, 1.0]) for c in perm_cols\n",
    "}\n",
    "\n",
    "\n",
    "def get_permutations(row: DataFrame):\n",
    "    perm_dfs = []\n",
    "    for c in perm_cols:\n",
    "        n = row[c].item()\n",
    "        r = np.linspace(quartiles[c][0], quartiles[c][-1], num=100)\n",
    "        perm_df = pd.concat([row for _ in range(r.shape[0])], axis=0)\n",
    "        perm_df[c] = list(r)\n",
    "        perm_dfs.append(perm_df)\n",
    "\n",
    "    result_df = pd.concat([row] + perm_dfs, axis=0)\n",
    "    result_df = result_df.drop_duplicates(keep=\"first\").reset_index(drop=True)\n",
    "    return result_df"
   ]
  },
  {
   "cell_type": "code",
   "execution_count": null,
   "metadata": {},
   "outputs": [],
   "source": [
    "import requests\n",
    "import os\n",
    "import json\n",
    "\n",
    "API_URL = os.environ.get(\"INFERENCE_API_URL\")\n",
    "API_KEY = os.environ.get(\"INFERENCE_API_KEY\")\n",
    "\n",
    "\n",
    "def run_permute_inference(row: DataFrame):\n",
    "    perm_df = get_permutations(row)\n",
    "    body = json.dumps({\"data\": perm_df.to_dict(orient=\"records\")})\n",
    "    result = requests.post(\n",
    "        f\"{API_URL}/inference\", data=body, headers={\"access_token\": API_KEY}\n",
    "    ).json()\n",
    "    return result, perm_df"
   ]
  },
  {
   "cell_type": "markdown",
   "metadata": {},
   "source": [
    "### 결과 분석\n"
   ]
  },
  {
   "cell_type": "code",
   "execution_count": null,
   "metadata": {},
   "outputs": [],
   "source": [
    "col = perm_cols[0]\n",
    "row = df_demo.sample()\n",
    "result, perm_df = run_permute_inference(row)"
   ]
  },
  {
   "cell_type": "code",
   "execution_count": null,
   "metadata": {},
   "outputs": [],
   "source": [
    "perm_df"
   ]
  },
  {
   "cell_type": "code",
   "execution_count": null,
   "metadata": {},
   "outputs": [],
   "source": [
    "result_df = pd.concat(\n",
    "    [perm_df, DataFrame.from_records(result).drop(columns=[\"NAME\", \"SK_ID_CURR\"])],\n",
    "    axis=1,\n",
    ")"
   ]
  },
  {
   "cell_type": "code",
   "execution_count": null,
   "metadata": {},
   "outputs": [],
   "source": [
    "result_df"
   ]
  },
  {
   "cell_type": "code",
   "execution_count": null,
   "metadata": {},
   "outputs": [],
   "source": [
    "PROB_THR = 1e-2\n",
    "\n",
    "result_df.drop_duplicates(subset=col, keep=\"first\")"
   ]
  },
  {
   "cell_type": "code",
   "execution_count": null,
   "metadata": {},
   "outputs": [],
   "source": []
  }
 ],
 "metadata": {
  "kernelspec": {
   "display_name": "ml_jupyter",
   "language": "python",
   "name": "python3"
  },
  "language_info": {
   "codemirror_mode": {
    "name": "ipython",
    "version": 3
   },
   "file_extension": ".py",
   "mimetype": "text/x-python",
   "name": "python",
   "nbconvert_exporter": "python",
   "pygments_lexer": "ipython3",
   "version": "3.10.14"
  }
 },
 "nbformat": 4,
 "nbformat_minor": 2
}
