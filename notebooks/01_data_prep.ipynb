{
  "cells": [
    {
      "cell_type": "markdown",
      "metadata": {},
      "source": [
        "### Data - Local\n"
      ]
    },
    {
      "cell_type": "code",
      "execution_count": null,
      "metadata": {},
      "outputs": [],
      "source": [
        "import pandas as pd\n",
        "import numpy as np\n",
        "\n",
        "application_train = pd.read_csv(\n",
        "    \".tmp/home-credit-default-risk/application_train.csv\", low_memory=False\n",
        ")\n",
        "bureau = pd.read_csv(\n",
        "    \".tmp/home-credit-default-risk/bureau.csv\",\n",
        "    low_memory=False,\n",
        ")\n",
        "previous_application = pd.read_csv(\n",
        "    \".tmp/home-credit-default-risk/previous_application.csv\", low_memory=False\n",
        ")\n",
        "credit_card_balance = pd.read_csv(\n",
        "    \".tmp/home-credit-default-risk/credit_card_balance.csv\", low_memory=False\n",
        ")"
      ]
    },
    {
      "cell_type": "markdown",
      "metadata": {},
      "source": [
        "### Data - GDrive\n"
      ]
    },
    {
      "cell_type": "code",
      "execution_count": null,
      "metadata": {
        "colab": {
          "base_uri": "https://localhost:8080/"
        },
        "id": "vib-dzn8tRWD",
        "outputId": "19870fbe-dcfe-4fb5-d74f-dea6832c9712"
      },
      "outputs": [],
      "source": [
        "# from google.colab import drive\n",
        "\n",
        "# drive.mount(\"/content/drive\")\n",
        "# import pandas as pd\n",
        "# import numpy as np\n",
        "# FILE_PATH = (\n",
        "#     \"/content/drive/MyDrive/Colab Notebooks/middle_project/data/bureau.csv의 사본\"\n",
        "# )\n",
        "\n",
        "# bureau = pd.read_csv(FILE_PATH)\n",
        "# FILE_PATH = \"/content/drive/MyDrive/Colab Notebooks/middle_project/data/previous_application.csv의 사본\"\n",
        "\n",
        "# previous_application = pd.read_csv(FILE_PATH)\n",
        "# FILE_PATH = \"/content/drive/MyDrive/Colab Notebooks/middle_project/data/credit_card_balance.csv의 사본\"\n",
        "\n",
        "# credit_card_balance = pd.read_csv(FILE_PATH)\n",
        "# FILE_PATH = \"/content/drive/MyDrive/Colab Notebooks/middle_project/data/application_train.csv의 사본\"\n",
        "\n",
        "# application_train = pd.read_csv(FILE_PATH)"
      ]
    },
    {
      "cell_type": "markdown",
      "metadata": {
        "id": "5WNW5Zs_6BtE"
      },
      "source": [
        "# previous_application\n"
      ]
    },
    {
      "cell_type": "markdown",
      "metadata": {
        "id": "9D40zQZ_mB_p"
      },
      "source": [
        "## bureau와 중복된 이전대출 제거 (previous.csv에서 제거 예정)\n"
      ]
    },
    {
      "cell_type": "code",
      "execution_count": null,
      "metadata": {
        "id": "7GdgcRyGtSD8"
      },
      "outputs": [],
      "source": [
        "import os\n",
        "\n",
        "contract_type_mapping = {\n",
        "    \"Consumer credit\": \"Consumer loans\",\n",
        "    \"Cash loan (non-earmarked)\": \"Cash loans\",\n",
        "}\n",
        "merged_df = pd.merge(\n",
        "    bureau,\n",
        "    previous_application,\n",
        "    on=\"SK_ID_CURR\",\n",
        "    how=\"inner\",\n",
        "    suffixes=(\"_bureau\", \"_previous\"),\n",
        ")\n",
        "merged_df[\"CREDIT_TYPE_mapped\"] = merged_df[\"CREDIT_TYPE\"].map(contract_type_mapping)\n",
        "\n",
        "same_loan_df = merged_df[\n",
        "    (merged_df[\"AMT_CREDIT_SUM\"] == merged_df[\"AMT_CREDIT\"])\n",
        "    & (merged_df[\"DAYS_CREDIT\"] == merged_df[\"DAYS_DECISION\"])\n",
        "    & (merged_df[\"CREDIT_TYPE_mapped\"] == merged_df[\"NAME_CONTRACT_TYPE\"])\n",
        "]\n",
        "\n",
        "previous_application = previous_application[\n",
        "    ~previous_application[\"SK_ID_PREV\"].isin(same_loan_df[\"SK_ID_PREV\"])\n",
        "]\n",
        "print(previous_application.shape)  # 1670214 -> (1664865, 38)"
      ]
    },
    {
      "cell_type": "markdown",
      "metadata": {
        "id": "NXInk7WemKp2"
      },
      "source": [
        "## 파생변수\n"
      ]
    },
    {
      "cell_type": "markdown",
      "metadata": {
        "id": "ikcpgP1cYOEK"
      },
      "source": [
        "#### LOAN_STATUS\n"
      ]
    },
    {
      "cell_type": "code",
      "execution_count": null,
      "metadata": {
        "colab": {
          "base_uri": "https://localhost:8080/",
          "height": 423
        },
        "id": "1xfHeZkEIWsG",
        "outputId": "5152665a-69a3-45dc-8c87-b6bd83c52b39"
      },
      "outputs": [],
      "source": [
        "def determine_loan_status(row):\n",
        "    # 대출이 취소된 경우\n",
        "    if row[\"NAME_CONTRACT_STATUS\"] in [\"Canceled\", \"Refused\", \"Unused offer\"]:\n",
        "        return 3\n",
        "\n",
        "    # 대출이 승인되었지만, 상환 시작이 안된 경우\n",
        "    if pd.isna(row[\"DAYS_FIRST_DUE\"]) or row[\"DAYS_FIRST_DUE\"] > 0:\n",
        "        return 3\n",
        "\n",
        "    # 대출이 승인되었고, 대출 종료 시점(DAYS_TERMINATION)이 존재하며 상환 완료된 경우\n",
        "    if (\n",
        "        row[\"DAYS_TERMINATION\"] < 0\n",
        "        and pd.notna(row[\"DAYS_LAST_DUE\"])\n",
        "        and row[\"DAYS_LAST_DUE\"] < row[\"DAYS_TERMINATION\"]\n",
        "    ):\n",
        "        return 0\n",
        "\n",
        "    # 대출이 승인되었고, 현재 상환 중인 경우 (상환 기한이 남아 있고, 연체되지 않은 상태)\n",
        "    if (\n",
        "        pd.notna(row[\"DAYS_FIRST_DUE\"])\n",
        "        and row[\"DAYS_LAST_DUE\"] > 0\n",
        "        and row[\"DAYS_TERMINATION\"] > 0\n",
        "    ):\n",
        "        return 2\n",
        "\n",
        "    # 연체된 경우 (상환 기한이 지나거나, 종료 시점이 지났음에도 상환되지 않은 경우)\n",
        "    if (pd.notna(row[\"DAYS_LAST_DUE\"]) and row[\"DAYS_LAST_DUE\"] < 0) or (\n",
        "        pd.notna(row[\"DAYS_TERMINATION\"])\n",
        "        and row[\"DAYS_TERMINATION\"] < 0\n",
        "        and row[\"DAYS_LAST_DUE\"] >= row[\"DAYS_TERMINATION\"]\n",
        "    ):\n",
        "        return 1\n",
        "\n",
        "    # 나머지 경우는 '확인 필요'로 표시 (모든 조건에 해당하지 않는 경우)\n",
        "    return 4\n",
        "\n",
        "\n",
        "# 새 파생 변수 생성\n",
        "previous_application[\"LOAN_STATUS\"] = previous_application.apply(\n",
        "    determine_loan_status, axis=1\n",
        ")\n",
        "\n",
        "# 결과 확인\n",
        "display(\n",
        "    previous_application[\n",
        "        [\n",
        "            \"SK_ID_CURR\",\n",
        "            \"NAME_CONTRACT_STATUS\",\n",
        "            \"DAYS_TERMINATION\",\n",
        "            \"DAYS_LAST_DUE\",\n",
        "            \"LOAN_STATUS\",\n",
        "        ]\n",
        "    ]\n",
        ")"
      ]
    },
    {
      "cell_type": "code",
      "execution_count": null,
      "metadata": {
        "colab": {
          "base_uri": "https://localhost:8080/",
          "height": 241
        },
        "id": "o2LKvB79GLcY",
        "outputId": "b1836fa2-c210-49ad-892b-9edabfe6580f"
      },
      "outputs": [],
      "source": [
        "previous_application[\"LOAN_STATUS\"].value_counts()"
      ]
    },
    {
      "cell_type": "markdown",
      "metadata": {
        "id": "COuy1jI3DqTi"
      },
      "source": [
        "#### IS_REVOLVING_LOAN\n"
      ]
    },
    {
      "cell_type": "code",
      "execution_count": null,
      "metadata": {
        "id": "KJYhPzcjCYMT"
      },
      "outputs": [],
      "source": [
        "previous_application[\"IS_REVOLVING_LOAN\"] = previous_application[\n",
        "    \"NAME_CONTRACT_TYPE\"\n",
        "].apply(lambda x: 1 if x == \"Revolving loans\" else 0)"
      ]
    },
    {
      "cell_type": "markdown",
      "metadata": {
        "id": "xFhsVF-hYiL4"
      },
      "source": [
        "## previous_application table 완성본\n"
      ]
    },
    {
      "cell_type": "code",
      "execution_count": null,
      "metadata": {
        "id": "FGxUWN-KDzqN"
      },
      "outputs": [],
      "source": [
        "# NFLAG_INSURED_ON_APPROVALE\n",
        "previous_application[\"NFLAG_INSURED_ON_APPROVAL_COUNT\"] = previous_application.groupby(\n",
        "    \"SK_ID_CURR\"\n",
        ")[\"NFLAG_INSURED_ON_APPROVAL\"].transform(\"count\")\n",
        "previous_application[\"NFLAG_INSURED_ON_APPROVAL_SUM\"] = previous_application.groupby(\n",
        "    \"SK_ID_CURR\"\n",
        ")[\"NFLAG_INSURED_ON_APPROVAL\"].transform(\"sum\")\n",
        "previous_application[\"NFLAG_INSURED_ON_APPROVAL_RATIO\"] = (\n",
        "    previous_application[\"NFLAG_INSURED_ON_APPROVAL_SUM\"]\n",
        "    / previous_application[\"NFLAG_INSURED_ON_APPROVAL_COUNT\"]\n",
        ")\n",
        "\n",
        "# AMT_APPLICATION\n",
        "previous_application[\"AMT_APPLICATION_MAX\"] = previous_application.groupby(\n",
        "    \"SK_ID_CURR\"\n",
        ")[\"AMT_APPLICATION\"].transform(\"max\")\n",
        "previous_application[\"AMT_APPLICATION_SUM\"] = previous_application.groupby(\n",
        "    \"SK_ID_CURR\"\n",
        ")[\"AMT_APPLICATION\"].transform(\"sum\")\n",
        "previous_application[\"AMT_APPLICATION_MEAN\"] = previous_application.groupby(\n",
        "    \"SK_ID_CURR\"\n",
        ")[\"AMT_APPLICATION\"].transform(\"mean\")\n",
        "\n",
        "# RATE_DOWN_PAYMENT\n",
        "previous_application[\"RATE_DOWN_PAYMENT_MEAN\"] = previous_application.groupby(\n",
        "    \"SK_ID_CURR\"\n",
        ")[\"RATE_DOWN_PAYMENT\"].transform(\"mean\")\n",
        "\n",
        "# # RATE_INTEREST_PRIMARY\n",
        "# previous_application['RATE_INTEREST_PRIMARY_MEAN'] = previous_application.groupby('SK_ID_CURR')['RATE_INTEREST_PRIMARY'].transform('mean')\n",
        "\n",
        "# # RATE_INTEREST_PRIVILEGED\n",
        "# previous_application['RATE_INTEREST_PRIVILEGED_MEAN'] = previous_application.groupby('SK_ID_CURR')['RATE_INTEREST_PRIVILEGED'].transform('mean')\n",
        "\n",
        "tri_previous_application = previous_application[\n",
        "    [\n",
        "        \"SK_ID_CURR\",\n",
        "        \"NFLAG_INSURED_ON_APPROVAL_COUNT\",\n",
        "        \"NFLAG_INSURED_ON_APPROVAL_SUM\",\n",
        "        \"NFLAG_INSURED_ON_APPROVAL_RATIO\",\n",
        "        \"AMT_APPLICATION_MAX\",\n",
        "        \"AMT_APPLICATION_SUM\",\n",
        "        \"AMT_APPLICATION_MEAN\",\n",
        "        \"RATE_DOWN_PAYMENT_MEAN\",\n",
        "        \"IS_REVOLVING_LOAN\",\n",
        "    ]\n",
        "].copy()\n",
        "tri_previous_application.drop_duplicates(subset=\"SK_ID_CURR\", inplace=True)\n",
        "tri_previous_application.dropna(\n",
        "    inplace=True\n",
        ")  # NaN값 대체 불가능한 파생변수 제거완료, 원본에서 보험가입여부가 NaN값이 많아서 drop"
      ]
    },
    {
      "cell_type": "code",
      "execution_count": null,
      "metadata": {
        "colab": {
          "base_uri": "https://localhost:8080/"
        },
        "id": "Y2hyN-akfi4D",
        "outputId": "1dcdf41a-c735-4259-d4fe-0995fcb28744"
      },
      "outputs": [],
      "source": [
        "tri_previous_application.info()"
      ]
    },
    {
      "cell_type": "code",
      "execution_count": null,
      "metadata": {
        "id": "eKmrqtbRgELI"
      },
      "outputs": [],
      "source": [
        "import os.path as path\n",
        "\n",
        "DATA_PATH = \".tmp/preprocessing\"\n",
        "if not path.isdir(DATA_PATH):\n",
        "    os.makedirs(DATA_PATH, exist_ok=True)\n",
        "\n",
        "tri_previous_application.to_csv(\n",
        "    path.join(DATA_PATH, \"tri_previous_application.csv\"), index=False\n",
        ")"
      ]
    },
    {
      "cell_type": "markdown",
      "metadata": {
        "id": "NiWQRCiKpAmT"
      },
      "source": [
        "# bureau\n"
      ]
    },
    {
      "cell_type": "markdown",
      "metadata": {
        "id": "s9lETTBe68u3"
      },
      "source": [
        "### 파생변수\n"
      ]
    },
    {
      "cell_type": "markdown",
      "metadata": {
        "id": "OVlyY4alpEC3"
      },
      "source": [
        "#### Loan_status\n",
        "\n",
        "-   완납 0, 연체1, 상환 중2, 취소 3, Unknown 4 => 삭제 예정 XNA or NaN\n"
      ]
    },
    {
      "cell_type": "code",
      "execution_count": null,
      "metadata": {
        "id": "6U22sXO4vvzJ"
      },
      "outputs": [],
      "source": [
        "def determine_loan_status(row):\n",
        "    if row[\"CREDIT_ACTIVE\"] == \"Closed\" and row[\"AMT_CREDIT_SUM_DEBT\"] == 0:\n",
        "        return 0\n",
        "    elif (\n",
        "        row[\"CREDIT_ACTIVE\"] in [\"Active\", \"Bad debt\"] and row[\"CREDIT_DAY_OVERDUE\"] > 0\n",
        "    ):\n",
        "        return 1\n",
        "    elif (\n",
        "        row[\"CREDIT_ACTIVE\"] == \"Active\"\n",
        "        and row[\"CREDIT_DAY_OVERDUE\"] == 0\n",
        "        and row[\"AMT_CREDIT_SUM_DEBT\"] > 0\n",
        "    ):\n",
        "        if row[\"DAYS_CREDIT_ENDDATE\"] < 0:  # 대출이 이미 종료된 날짜\n",
        "            return 1\n",
        "        else:\n",
        "            return 2\n",
        "    elif row[\"CREDIT_ACTIVE\"] == \"Sold\":\n",
        "        return 3\n",
        "    else:\n",
        "        return 4\n",
        "\n",
        "\n",
        "bureau[\"LOAN_STATUS\"] = bureau.apply(determine_loan_status, axis=1)"
      ]
    },
    {
      "cell_type": "markdown",
      "metadata": {
        "id": "MG9TZGX1Ab_X"
      },
      "source": [
        "#### CREDIT_DAY_OVERDUE\n"
      ]
    },
    {
      "cell_type": "code",
      "execution_count": null,
      "metadata": {
        "id": "fuOiynDI7P5k"
      },
      "outputs": [],
      "source": [
        "# breau에서 'CREDIT_DAY_OVERDUE'를 카테고리화 하기(0 : Overdue_0, 1-29일 연체 : Overdue_1, 30-59일 연체 : Overdue_2, 60-89일 연체 : Overdue_3, 90-119일 연체 : Overdue_4, 120일 이상 연체 : Overdue_5로 카테고리화)\n",
        "def classify_overdue_days(days):\n",
        "    if days == 0:\n",
        "        return \"Overdue_0\"\n",
        "    elif 1 <= days <= 29:\n",
        "        return \"Overdue_1\"\n",
        "    elif 30 <= days <= 59:\n",
        "        return \"Overdue_2\"\n",
        "    elif 60 <= days <= 89:\n",
        "        return \"Overdue_3\"\n",
        "    elif 90 <= days <= 119:\n",
        "        return \"Overdue_4\"\n",
        "    elif days >= 120:\n",
        "        return \"Overdue_5\"\n",
        "    else:\n",
        "        return \"Unknown\"  # 만약 잘못된 데이터가 있을 경우\n",
        "\n",
        "\n",
        "# classify_overdue_days 함수를 CREDIT_DAY_OVERDUE 컬럼에 적용\n",
        "bureau[\"OVERDUE_CATEGORY\"] = bureau[\"CREDIT_DAY_OVERDUE\"].apply(classify_overdue_days)\n",
        "# 결과 출력\n",
        "bureau[\"OVERDUE_CATEGORY\"].value_counts()\n",
        "\n",
        "bureau.drop(\"CREDIT_DAY_OVERDUE\", axis=1)\n",
        "bureau.rename(columns={\"OVERDUE_CATEGORY\": \"CREDIT_DAY_OVERDUE\"}, inplace=True)"
      ]
    },
    {
      "cell_type": "markdown",
      "metadata": {
        "id": "_KOW-FyLiZIm"
      },
      "source": [
        "## bureau table 완성본\n"
      ]
    },
    {
      "cell_type": "code",
      "execution_count": null,
      "metadata": {
        "id": "WyRK4etJGlcP"
      },
      "outputs": [],
      "source": [
        "# AMT_CREDIT_MAX_OVERDUE의 MAX, SUM 컬럼값 생성\n",
        "bureau[\"AMT_CREDIT_MAX_OVERDUE_MAX\"] = bureau.groupby(\"SK_ID_CURR\")[\n",
        "    \"AMT_CREDIT_MAX_OVERDUE\"\n",
        "].transform(\"max\")\n",
        "bureau[\"AMT_CREDIT_MAX_OVERDUE_SUM\"] = bureau.groupby(\"SK_ID_CURR\")[\n",
        "    \"AMT_CREDIT_MAX_OVERDUE\"\n",
        "].transform(\"sum\")\n",
        "\n",
        "# CNT_CREDIT_PROLONG의 MAX, SUM, MEAN 컬럼값 생성\n",
        "bureau[\"CNT_CREDIT_PROLONG_MAX\"] = bureau.groupby(\"SK_ID_CURR\")[\n",
        "    \"CNT_CREDIT_PROLONG\"\n",
        "].transform(\"max\")\n",
        "bureau[\"CNT_CREDIT_PROLONG_SUM\"] = bureau.groupby(\"SK_ID_CURR\")[\n",
        "    \"CNT_CREDIT_PROLONG\"\n",
        "].transform(\"sum\")\n",
        "bureau[\"CNT_CREDIT_PROLONG_MEAN\"] = bureau.groupby(\"SK_ID_CURR\")[\n",
        "    \"CNT_CREDIT_PROLONG\"\n",
        "].transform(\"mean\")\n",
        "\n",
        "# CREDIT_DAY_OVERDUE의 연체 카테고리 count 컬럼값 생성\n",
        "overdue_counts = (\n",
        "    bureau.groupby(\"SK_ID_CURR\")[\"CREDIT_DAY_OVERDUE\"]\n",
        "    .value_counts()\n",
        "    .unstack(fill_value=0)\n",
        ")\n",
        "overdue_counts.columns = [f\"COUNT_{col}\" for col in overdue_counts.columns]\n",
        "bureau = bureau.merge(overdue_counts, on=\"SK_ID_CURR\", how=\"left\")\n",
        "\n",
        "# AMT_CREDIT_SUM_DEBT의 MAX, SUM, MEAN 컬럼값 생성\n",
        "bureau[\"AMT_CREDIT_SUM_DEBT_MAX\"] = bureau.groupby(\"SK_ID_CURR\")[\n",
        "    \"AMT_CREDIT_SUM_DEBT\"\n",
        "].transform(\"max\")\n",
        "bureau[\"AMT_CREDIT_SUM_DEBT_SUM\"] = bureau.groupby(\"SK_ID_CURR\")[\n",
        "    \"AMT_CREDIT_SUM_DEBT\"\n",
        "].transform(\"sum\")\n",
        "bureau[\"AMT_CREDIT_SUM_DEBT_MEAN\"] = bureau.groupby(\"SK_ID_CURR\")[\n",
        "    \"AMT_CREDIT_SUM_DEBT\"\n",
        "].transform(\"mean\")\n",
        "\n",
        "# AMT_CREDIT_SUM_LIMIT의 MEAN\n",
        "bureau[\"AMT_CREDIT_SUM_LIMIT_MEAN\"] = bureau.groupby(\"SK_ID_CURR\")[\n",
        "    \"AMT_CREDIT_SUM_LIMIT\"\n",
        "].transform(\"mean\")\n",
        "\n",
        "# AMT_CREDIT_SUM_OVERDUE의 MAX, SUM, MEAN\n",
        "bureau[\"AMT_CREDIT_SUM_OVERDUE_MAX\"] = bureau.groupby(\"SK_ID_CURR\")[\n",
        "    \"AMT_CREDIT_SUM_OVERDUE\"\n",
        "].transform(\"max\")\n",
        "bureau[\"AMT_CREDIT_SUM_OVERDUE_SUM\"] = bureau.groupby(\"SK_ID_CURR\")[\n",
        "    \"AMT_CREDIT_SUM_OVERDUE\"\n",
        "].transform(\"sum\")\n",
        "bureau[\"AMT_CREDIT_SUM_OVERDUE_MEAN\"] = bureau.groupby(\"SK_ID_CURR\")[\n",
        "    \"AMT_CREDIT_SUM_OVERDUE\"\n",
        "].transform(\"mean\")"
      ]
    },
    {
      "cell_type": "code",
      "execution_count": null,
      "metadata": {
        "colab": {
          "base_uri": "https://localhost:8080/"
        },
        "id": "tsYi_hlZrNtY",
        "outputId": "2cd6c045-3c75-45f0-c482-27e8a8510ee1"
      },
      "outputs": [],
      "source": [
        "# SK_ID_CURR 기준으로 중복값 제거 후, 특정 컬럼만 뽑아서 bureau_data_sample 생성\n",
        "tri_bureau = bureau[\n",
        "    [\n",
        "        \"SK_ID_CURR\",\n",
        "        \"AMT_CREDIT_MAX_OVERDUE_MAX\",\n",
        "        \"AMT_CREDIT_MAX_OVERDUE_SUM\",\n",
        "        \"CNT_CREDIT_PROLONG_MAX\",\n",
        "        \"CNT_CREDIT_PROLONG_SUM\",\n",
        "        \"CNT_CREDIT_PROLONG_MEAN\",\n",
        "        \"AMT_CREDIT_SUM_DEBT_MAX\",\n",
        "        \"AMT_CREDIT_SUM_DEBT_SUM\",\n",
        "        \"AMT_CREDIT_SUM_DEBT_MEAN\",\n",
        "        \"AMT_CREDIT_SUM_LIMIT_MEAN\",\n",
        "        \"AMT_CREDIT_SUM_OVERDUE_MAX\",\n",
        "        \"AMT_CREDIT_SUM_OVERDUE_SUM\",\n",
        "        \"AMT_CREDIT_SUM_OVERDUE_MEAN\",\n",
        "        \"COUNT_Overdue_0\",\n",
        "        \"COUNT_Overdue_1\",\n",
        "        \"COUNT_Overdue_2\",\n",
        "        \"COUNT_Overdue_3\",\n",
        "        \"COUNT_Overdue_4\",\n",
        "        \"COUNT_Overdue_5\",\n",
        "    ]\n",
        "].copy()\n",
        "tri_bureau.drop_duplicates(subset=\"SK_ID_CURR\", inplace=True)\n",
        "tri_bureau.fillna(\n",
        "    0, inplace=True\n",
        ")  # 전부 파생변수에서 NaN값 하지만 완납 or 취소인 경우에 부채에서 NaN을 발생시켜서 0으로 대체\n",
        "\n",
        "# 결측치 확인\n",
        "tri_bureau.info()"
      ]
    },
    {
      "cell_type": "code",
      "execution_count": null,
      "metadata": {
        "id": "BdShbOahrpNh"
      },
      "outputs": [],
      "source": [
        "tri_bureau.to_csv(path.join(DATA_PATH, \"tri_bureau.csv\"), index=False)"
      ]
    },
    {
      "cell_type": "markdown",
      "metadata": {
        "id": "SDqQbs4UqSqZ"
      },
      "source": [
        "# credit_card_balance\n"
      ]
    },
    {
      "cell_type": "markdown",
      "metadata": {
        "id": "_RDgFf-Ps2di"
      },
      "source": [
        "### 파생변수\n"
      ]
    },
    {
      "cell_type": "markdown",
      "metadata": {
        "id": "yskL2BXtsyfg"
      },
      "source": [
        "#### is_overdue\n"
      ]
    },
    {
      "cell_type": "code",
      "execution_count": null,
      "metadata": {
        "id": "xfs5Ts74qbgm"
      },
      "outputs": [],
      "source": [
        "# 연체 여부를 판단하는 칼럼\n",
        "credit_card_balance[\"is_overdue\"] = credit_card_balance[\"SK_DPD\"] > 0"
      ]
    },
    {
      "cell_type": "markdown",
      "metadata": {
        "id": "RDN1o7YYtWj7"
      },
      "source": [
        "#### credit_limit_usage\n"
      ]
    },
    {
      "cell_type": "code",
      "execution_count": null,
      "metadata": {
        "id": "FKnHtXYVsKHK"
      },
      "outputs": [],
      "source": [
        "credit_card_balance[\"credit_limit_usage\"] = (\n",
        "    credit_card_balance[\"AMT_BALANCE\"] / credit_card_balance[\"AMT_CREDIT_LIMIT_ACTUAL\"]\n",
        ").replace([np.inf, -np.inf], np.nan)"
      ]
    },
    {
      "cell_type": "markdown",
      "metadata": {
        "id": "tjfAGH9VtyAX"
      },
      "source": [
        "### credit_card_balance 완성본\n"
      ]
    },
    {
      "cell_type": "code",
      "execution_count": null,
      "metadata": {
        "colab": {
          "base_uri": "https://localhost:8080/"
        },
        "id": "bZTlZmL5t0po",
        "outputId": "c7c602d7-69bd-48bc-f8ff-34459a8797b8"
      },
      "outputs": [],
      "source": [
        "credit_card_balance[\"avg_credit_limit_usage\"] = credit_card_balance.groupby(\n",
        "    \"SK_ID_CURR\"\n",
        ")[\"credit_limit_usage\"].transform(\"mean\")\n",
        "credit_card_balance[\"total_overdue\"] = credit_card_balance.groupby(\"SK_ID_CURR\")[\n",
        "    \"is_overdue\"\n",
        "].transform(\"sum\")\n",
        "credit_card_balance[\"CNT_DRAWINGS_CURRENT_SUM\"] = credit_card_balance.groupby(\n",
        "    \"SK_ID_CURR\"\n",
        ")[\"CNT_DRAWINGS_CURRENT\"].transform(\"sum\")\n",
        "\n",
        "# SK_DPD의 컬럼값 생성\n",
        "credit_card_balance[\"SK_DPD_MAX\"] = credit_card_balance.groupby(\"SK_ID_CURR\")[\n",
        "    \"SK_DPD\"\n",
        "].transform(\"max\")\n",
        "credit_card_balance[\"SK_DPD_MEAN\"] = credit_card_balance.groupby(\"SK_ID_CURR\")[\n",
        "    \"SK_DPD\"\n",
        "].transform(\"mean\")\n",
        "\n",
        "tri_credit_card_balance = credit_card_balance[\n",
        "    [\n",
        "        \"SK_ID_CURR\",\n",
        "        \"CNT_DRAWINGS_CURRENT_SUM\",\n",
        "        \"SK_DPD_MAX\",\n",
        "        \"SK_DPD_MEAN\",\n",
        "        \"avg_credit_limit_usage\",\n",
        "        \"total_overdue\",\n",
        "    ]\n",
        "].copy()\n",
        "tri_credit_card_balance.drop_duplicates(subset=\"SK_ID_CURR\", inplace=True)\n",
        "\n",
        "# na 제거\n",
        "tri_credit_card_balance.dropna(\n",
        "    inplace=True\n",
        ")  # avg_credit_limit_usage 에서만 NaN값 존재 => 비율이라 0으로 하면 큰일나서 걍 drop하겠음\n",
        "\n",
        "# 결측치 확인\n",
        "tri_credit_card_balance.info()"
      ]
    },
    {
      "cell_type": "code",
      "execution_count": null,
      "metadata": {
        "id": "vPFEWSkJungb"
      },
      "outputs": [],
      "source": [
        "tri_credit_card_balance.to_csv(\n",
        "    path.join(DATA_PATH, \"tri_credit_card_balance.csv\"), index=False\n",
        ")"
      ]
    },
    {
      "cell_type": "markdown",
      "metadata": {
        "id": "OuNTfj2951mv"
      },
      "source": [
        "# bureau + previous_application\n"
      ]
    },
    {
      "cell_type": "code",
      "execution_count": null,
      "metadata": {
        "id": "pCZQBSDA559N"
      },
      "outputs": [],
      "source": [
        "# bureau\n",
        "bureau_selected = bureau[\n",
        "    [\"SK_ID_CURR\", \"AMT_ANNUITY\", \"AMT_CREDIT_SUM\", \"LOAN_STATUS\", \"SK_ID_BUREAU\"]\n",
        "].copy()\n",
        "bureau_selected.rename(\n",
        "    columns={\"AMT_CREDIT_SUM\": \"AMT_CREDIT\", \"SK_ID_BUREAU\": \"SK_ID\"}, inplace=True\n",
        ")\n",
        "\n",
        "# previous_application\n",
        "previous_selected = previous_application[\n",
        "    [\"SK_ID_CURR\", \"AMT_ANNUITY\", \"AMT_CREDIT\", \"LOAN_STATUS\", \"SK_ID_PREV\"]\n",
        "].copy()\n",
        "previous_selected.rename(columns={\"SK_ID_PREV\": \"SK_ID\"}, inplace=True)\n",
        "\n",
        "combined_df = pd.concat([bureau_selected, previous_selected], ignore_index=True)"
      ]
    },
    {
      "cell_type": "code",
      "execution_count": null,
      "metadata": {
        "id": "EYxBR34AKkI4"
      },
      "outputs": [],
      "source": [
        "# CNT_CREDIT_PROLONG의 MAX, SUM, MEAN 컬럼값 생성\n",
        "combined_df[\"AMT_ANNUITY_MAX\"] = combined_df.groupby(\"SK_ID_CURR\")[\n",
        "    \"AMT_ANNUITY\"\n",
        "].transform(\"max\")\n",
        "combined_df[\"AMT_ANNUITY_SUM\"] = combined_df.groupby(\"SK_ID_CURR\")[\n",
        "    \"AMT_ANNUITY\"\n",
        "].transform(\"sum\")\n",
        "combined_df[\"AMT_ANNUITY_MEAN\"] = combined_df.groupby(\"SK_ID_CURR\")[\n",
        "    \"AMT_ANNUITY\"\n",
        "].transform(\"mean\")\n",
        "\n",
        "combined_df[\"AMT_CREDIT_MAX\"] = combined_df.groupby(\"SK_ID_CURR\")[\n",
        "    \"AMT_CREDIT\"\n",
        "].transform(\"max\")\n",
        "combined_df[\"AMT_CREDIT_SUM\"] = combined_df.groupby(\"SK_ID_CURR\")[\n",
        "    \"AMT_CREDIT\"\n",
        "].transform(\"sum\")\n",
        "combined_df[\"AMT_CREDIT_MEAN\"] = combined_df.groupby(\"SK_ID_CURR\")[\n",
        "    \"AMT_CREDIT\"\n",
        "].transform(\"mean\")\n",
        "combined_df[\"AMT_CREDIT_MEDIAN\"] = combined_df.groupby(\"SK_ID_CURR\")[\n",
        "    \"AMT_CREDIT\"\n",
        "].transform(\"median\")\n",
        "\n",
        "combined_df[\"IS_OVERDUE\"] = combined_df[\"LOAN_STATUS\"].apply(\n",
        "    lambda x: 1 if x == 1 else 0\n",
        ")\n",
        "combined_df[\"IS_PAIDOFF\"] = combined_df[\"LOAN_STATUS\"].apply(\n",
        "    lambda x: 1 if x == 0 else 0\n",
        ")\n",
        "combined_df[\"LOAN_COUNT\"] = combined_df.groupby(\"SK_ID_CURR\")[\"SK_ID\"].transform(\n",
        "    \"count\"\n",
        ")\n",
        "\n",
        "# 3. current_id별 연체 횟수 / 전체 대출 횟수 = 연체 비율 칼럼\n",
        "combined_df[\"OVERDUE_RATIO\"] = (\n",
        "    combined_df.groupby(\"SK_ID_CURR\")[\"IS_OVERDUE\"].transform(\"sum\")\n",
        "    / combined_df[\"LOAN_COUNT\"]\n",
        ")\n",
        "\n",
        "# 4. 연체 횟수 총 cnt: LOAN_STATUS가 1인 경우 current_id로 그룹바이해서 카운트\n",
        "combined_df[\"TOTAL_OVERDUE_COUNT\"] = combined_df.groupby(\"SK_ID_CURR\")[\n",
        "    \"IS_OVERDUE\"\n",
        "].transform(\"sum\")\n",
        "\n",
        "# 5. current_id별 평균 연체 횟수 칼럼\n",
        "combined_df[\"AVERAGE_OVERDUE\"] = (\n",
        "    combined_df[\"TOTAL_OVERDUE_COUNT\"] / combined_df[\"LOAN_COUNT\"]\n",
        ")\n",
        "\n",
        "combined_df[\"HAS_OVERDUE\"] = combined_df.groupby(\"SK_ID_CURR\")[\"IS_OVERDUE\"].transform(\n",
        "    lambda x: 1 if x.sum() > 0 else 0\n",
        ")"
      ]
    },
    {
      "cell_type": "code",
      "execution_count": null,
      "metadata": {
        "id": "KSgx75p4TO8C"
      },
      "outputs": [],
      "source": [
        "combined_df.drop(\n",
        "    [\"AMT_ANNUITY\", \"AMT_CREDIT\", \"LOAN_STATUS\", \"SK_ID\", \"IS_OVERDUE\", \"IS_PAIDOFF\"],\n",
        "    axis=1,\n",
        "    inplace=True,\n",
        ")\n",
        "combined_df.drop_duplicates(subset=\"SK_ID_CURR\", inplace=True)\n",
        "combined_df.dropna(inplace=True)  # 대출 월 납부액 NaN은 어쩔 수가 없다"
      ]
    },
    {
      "cell_type": "code",
      "execution_count": null,
      "metadata": {
        "colab": {
          "base_uri": "https://localhost:8080/"
        },
        "id": "HJj8J_nCUhQV",
        "outputId": "d61da412-729a-4e38-93e0-fca107cd25be"
      },
      "outputs": [],
      "source": [
        "combined_df.info()"
      ]
    },
    {
      "cell_type": "code",
      "execution_count": null,
      "metadata": {
        "id": "rg_nZhTE1yvb"
      },
      "outputs": [],
      "source": [
        "combined_df.to_csv(path.join(DATA_PATH, \"combined_df.csv\"), index=False)"
      ]
    },
    {
      "cell_type": "markdown",
      "metadata": {
        "id": "Ar7Sg5vWrRT7"
      },
      "source": [
        "# application_train\n"
      ]
    },
    {
      "cell_type": "code",
      "execution_count": null,
      "metadata": {
        "colab": {
          "base_uri": "https://localhost:8080/"
        },
        "id": "5VK9_pn0AL42",
        "outputId": "112fc549-0258-4a54-d056-561147cda557"
      },
      "outputs": [],
      "source": [
        "pd.set_option(\"display.max_rows\", None)\n",
        "pd.set_option(\"display.max_columns\", None)\n",
        "print(application_train.isnull().sum())"
      ]
    },
    {
      "cell_type": "code",
      "execution_count": null,
      "metadata": {
        "colab": {
          "base_uri": "https://localhost:8080/"
        },
        "id": "_gB7afM--KVp",
        "outputId": "a8371e3a-25d4-4036-d93d-92d22e5b13f3"
      },
      "outputs": [],
      "source": [
        "# 데이터프레임 복사\n",
        "df = application_train.copy()\n",
        "\n",
        "# 1. 각 열별로 NaN 값의 개수를 세고, 10만 개 이상의 NaN 값을 가진 열을 제거\n",
        "df.dropna(axis=1, thresh=len(df) - 100000, inplace=True)\n",
        "print(\"NaN이 10만 개 이상인 열 제거 후:\", df.shape)\n",
        "\n",
        "# 2. 고유값이 10개 이상인 명목형 칼럼 제거\n",
        "categorical_columns = df.select_dtypes(include=[\"object\"]).columns\n",
        "columns_to_drop = (\n",
        "    df[categorical_columns].nunique()[df[categorical_columns].nunique() >= 10].index\n",
        ")\n",
        "df.drop(columns=columns_to_drop, inplace=True)\n",
        "print(\"고유값 10개 이상인 명목형 칼럼 제거 후:\", df.shape)\n",
        "\n",
        "# 3. NaN 값이 있는 행 제거\n",
        "df.dropna(inplace=True)\n",
        "print(\"NaN 값이 있는 행 제거 후:\", df.shape)"
      ]
    },
    {
      "cell_type": "code",
      "execution_count": null,
      "metadata": {
        "colab": {
          "base_uri": "https://localhost:8080/"
        },
        "id": "S5Epw1l84hZc",
        "outputId": "0dc19d4d-b96d-41aa-d723-ed5f3605dc36"
      },
      "outputs": [],
      "source": [
        "# 먼저 combined_df를 df에 조인\n",
        "merged_df = df.join(\n",
        "    combined_df.set_index(\"SK_ID_CURR\"),\n",
        "    on=\"SK_ID_CURR\",\n",
        "    rsuffix=\"_combined\",\n",
        "    how=\"left\",\n",
        ")\n",
        "\n",
        "# bureau를 조인\n",
        "merged_df = merged_df.join(\n",
        "    tri_bureau.set_index(\"SK_ID_CURR\"), on=\"SK_ID_CURR\", rsuffix=\"_bureau\", how=\"left\"\n",
        ")\n",
        "\n",
        "# previous_application을 조인\n",
        "merged_df = merged_df.join(\n",
        "    tri_previous_application.set_index(\"SK_ID_CURR\"),\n",
        "    on=\"SK_ID_CURR\",\n",
        "    rsuffix=\"_previous\",\n",
        "    how=\"left\",\n",
        ")\n",
        "\n",
        "# 결과 확인\n",
        "print(merged_df.shape)"
      ]
    },
    {
      "cell_type": "code",
      "execution_count": null,
      "metadata": {
        "colab": {
          "base_uri": "https://localhost:8080/"
        },
        "id": "JAWqRH7SH-SJ",
        "outputId": "9660cd46-55fb-4729-b16e-52f96d714f5e"
      },
      "outputs": [],
      "source": [
        "print(merged_df.isnull().sum())"
      ]
    },
    {
      "cell_type": "code",
      "execution_count": null,
      "metadata": {
        "colab": {
          "base_uri": "https://localhost:8080/"
        },
        "id": "kVaq6vvaICjH",
        "outputId": "700975c8-56f5-452e-97d9-12a241d23965"
      },
      "outputs": [],
      "source": [
        "# 공통으로 존재하는 SK_ID_CURR 값의 개수를 확인\n",
        "common_ids = set(df[\"SK_ID_CURR\"]).intersection(\n",
        "    set(combined_df[\"SK_ID_CURR\"]),\n",
        "    set(tri_bureau[\"SK_ID_CURR\"]),\n",
        "    set(tri_previous_application[\"SK_ID_CURR\"]),\n",
        ")\n",
        "\n",
        "print(f\"공통으로 존재하는 SK_ID_CURR 값의 수: {len(common_ids)}\")\n",
        "print(f\"df에만 있는 SK_ID_CURR의 수: {len(set(df['SK_ID_CURR']) - common_ids)}\")\n",
        "print(\n",
        "    f\"combined_df에만 있는 SK_ID_CURR의 수: {len(set(combined_df['SK_ID_CURR']) - common_ids)}\"\n",
        ")\n",
        "print(\n",
        "    f\"tri_bureau에만 있는 SK_ID_CURR의 수: {len(set(tri_bureau['SK_ID_CURR']) - common_ids)}\"\n",
        ")\n",
        "print(\n",
        "    f\"tri_previous_application에만 있는 SK_ID_CURR의 수: {len(set(tri_previous_application['SK_ID_CURR']) - common_ids)}\"\n",
        ")"
      ]
    },
    {
      "cell_type": "code",
      "execution_count": null,
      "metadata": {
        "id": "vUkv34-eI8X3"
      },
      "outputs": [],
      "source": [
        "merged_df.fillna(\n",
        "    0, inplace=True\n",
        ")  # 과거 대출기록이 없는 친구들 이므로 join해서 나온 NaN값은 전부 0으로 돌릴 수 있도록 변수 생성했음"
      ]
    },
    {
      "cell_type": "markdown",
      "metadata": {
        "id": "5Y2RH4lcBtiu"
      },
      "source": [
        "### 최종본 파생변수\n"
      ]
    },
    {
      "cell_type": "code",
      "execution_count": null,
      "metadata": {
        "id": "6ALL2-MEAm9M"
      },
      "outputs": [],
      "source": [
        "merged_df[\"Dependents_Index\"] = merged_df[\"CNT_CHILDREN\"] / (\n",
        "    merged_df[\"CNT_FAM_MEMBERS\"] - merged_df[\"CNT_CHILDREN\"]\n",
        ")  # 부양 부담 지수\n",
        "merged_df[\"Income_to_Dependents_Ratio\"] = merged_df[\"AMT_INCOME_TOTAL\"] / (\n",
        "    merged_df[\"CNT_CHILDREN\"] + 1\n",
        ")  # 소득 대비 부양 부담 비율\n",
        "merged_df[\"Debt_to_Income_Ratio\"] = (\n",
        "    merged_df[\"AMT_CREDIT_SUM_DEBT_MEAN\"] / merged_df[\"AMT_INCOME_TOTAL\"]\n",
        ")  # 부채 상환 비율\n",
        "merged_df[\"Debt_Repayment_Capability_Index\"] = (\n",
        "    merged_df[\"AMT_ANNUITY_MEAN\"] / merged_df[\"AMT_INCOME_TOTAL\"]\n",
        ")  # 부채 상환 가능성 지수\n",
        "merged_df[\"Credit_Utilization_Ratio\"] = np.where(\n",
        "    merged_df[\"AMT_CREDIT_SUM\"] == 0,\n",
        "    0,\n",
        "    merged_df[\"AMT_CREDIT_SUM_DEBT_SUM\"] / merged_df[\"AMT_CREDIT_SUM\"],\n",
        ")  # 대출 상환 비율"
      ]
    },
    {
      "cell_type": "code",
      "execution_count": null,
      "metadata": {
        "colab": {
          "base_uri": "https://localhost:8080/"
        },
        "id": "EGp-0bYPREY4",
        "outputId": "a398df6f-2e73-40ff-e4f4-66902ba4249a"
      },
      "outputs": [],
      "source": [
        "merged_df.shape"
      ]
    },
    {
      "cell_type": "code",
      "execution_count": null,
      "metadata": {},
      "outputs": [],
      "source": [
        "SAVE_PATH = \".tmp/dataset\"\n",
        "if not path.isdir(SAVE_PATH):\n",
        "    os.makedirs(SAVE_PATH, exist_ok=True)\n",
        "\n",
        "# 최종 데이터셋 : 학습 + 데모\n",
        "merged_df.to_csv(path.join(SAVE_PATH, \"dataset_total.csv\"), index=False)"
      ]
    },
    {
      "cell_type": "code",
      "execution_count": null,
      "metadata": {},
      "outputs": [],
      "source": [
        "merged_df.select_dtypes(include=\"object\").head(10)"
      ]
    }
  ],
  "metadata": {
    "colab": {
      "machine_shape": "hm",
      "provenance": []
    },
    "kernelspec": {
      "display_name": "Python 3",
      "name": "python3"
    },
    "language_info": {
      "codemirror_mode": {
        "name": "ipython",
        "version": 3
      },
      "file_extension": ".py",
      "mimetype": "text/x-python",
      "name": "python",
      "nbconvert_exporter": "python",
      "pygments_lexer": "ipython3",
      "version": "3.10.14"
    }
  },
  "nbformat": 4,
  "nbformat_minor": 0
}
